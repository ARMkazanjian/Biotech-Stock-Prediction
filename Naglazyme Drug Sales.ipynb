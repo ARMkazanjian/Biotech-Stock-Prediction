{
 "cells": [
  {
   "cell_type": "markdown",
   "id": "ca0e2537-075f-4f18-ab8e-cc5a51f8f3ab",
   "metadata": {},
   "source": [
    "### Naglazyme Drug Sales"
   ]
  },
  {
   "cell_type": "markdown",
   "id": "4c69c418-07da-48ef-8ba1-74673b88f862",
   "metadata": {},
   "source": [
    "#### Importing Libraries"
   ]
  },
  {
   "cell_type": "code",
   "execution_count": 1,
   "id": "7a5243b5-1360-45de-8c51-c6b6fdb82f94",
   "metadata": {},
   "outputs": [],
   "source": [
    "import pandas as pd\n",
    "import numpy as np\n",
    "from sklearn.ensemble import GradientBoostingRegressor # Importing our Boosting Model\n",
    "from sklearn.preprocessing import MinMaxScaler\n",
    "from sklearn.metrics import mean_squared_error, r2_score # Used to evaluted precision of model\n",
    "from sklearn.model_selection import train_test_split # Split the dataset into training and testing sets \n",
    "from sklearn.ensemble import BaggingRegressor\n",
    "import matplotlib.pyplot as plt"
   ]
  },
  {
   "cell_type": "markdown",
   "id": "83074017-4e19-48db-8bba-a0d0cbee4765",
   "metadata": {},
   "source": [
    "#### Dataset Visualization"
   ]
  },
  {
   "cell_type": "code",
   "execution_count": 2,
   "id": "38bb3fd4-66ca-43dd-8035-d21630ce95ac",
   "metadata": {},
   "outputs": [
    {
     "data": {
      "text/html": [
       "<div>\n",
       "<style scoped>\n",
       "    .dataframe tbody tr th:only-of-type {\n",
       "        vertical-align: middle;\n",
       "    }\n",
       "\n",
       "    .dataframe tbody tr th {\n",
       "        vertical-align: top;\n",
       "    }\n",
       "\n",
       "    .dataframe thead th {\n",
       "        text-align: right;\n",
       "    }\n",
       "</style>\n",
       "<table border=\"1\" class=\"dataframe\">\n",
       "  <thead>\n",
       "    <tr style=\"text-align: right;\">\n",
       "      <th></th>\n",
       "      <th>Year</th>\n",
       "      <th>Vimizim</th>\n",
       "      <th>Naglazyme</th>\n",
       "      <th>Palynziq</th>\n",
       "      <th>Kuvan</th>\n",
       "      <th>Brineura</th>\n",
       "      <th>Voxzogo</th>\n",
       "      <th>Aldurazyme</th>\n",
       "      <th>Products</th>\n",
       "      <th>Royalty</th>\n",
       "      <th>...</th>\n",
       "      <th>Operating Expenses</th>\n",
       "      <th>Operating Income</th>\n",
       "      <th>Interest Expense</th>\n",
       "      <th>Pretax Income</th>\n",
       "      <th>Taxes</th>\n",
       "      <th>Net Profit</th>\n",
       "      <th>EPS</th>\n",
       "      <th>Shares</th>\n",
       "      <th>Share Price</th>\n",
       "      <th>Unnamed: 24</th>\n",
       "    </tr>\n",
       "  </thead>\n",
       "  <tbody>\n",
       "    <tr>\n",
       "      <th>0</th>\n",
       "      <td>Q320</td>\n",
       "      <td>148.0</td>\n",
       "      <td>76.0</td>\n",
       "      <td>46.0</td>\n",
       "      <td>124.0</td>\n",
       "      <td>25.0</td>\n",
       "      <td>0.0</td>\n",
       "      <td>41.0</td>\n",
       "      <td>461.0</td>\n",
       "      <td>16.0</td>\n",
       "      <td>...</td>\n",
       "      <td>327.0</td>\n",
       "      <td>-38.0</td>\n",
       "      <td>-5.0</td>\n",
       "      <td>-44.0</td>\n",
       "      <td>0.0</td>\n",
       "      <td>-44.0</td>\n",
       "      <td>-0.220201</td>\n",
       "      <td>198.0</td>\n",
       "      <td>87.00</td>\n",
       "      <td>NaN</td>\n",
       "    </tr>\n",
       "    <tr>\n",
       "      <th>1</th>\n",
       "      <td>Q420</td>\n",
       "      <td>143.0</td>\n",
       "      <td>120.0</td>\n",
       "      <td>50.0</td>\n",
       "      <td>89.0</td>\n",
       "      <td>35.0</td>\n",
       "      <td>0.0</td>\n",
       "      <td>1.0</td>\n",
       "      <td>437.0</td>\n",
       "      <td>15.0</td>\n",
       "      <td>...</td>\n",
       "      <td>352.0</td>\n",
       "      <td>-26.0</td>\n",
       "      <td>5.0</td>\n",
       "      <td>-22.0</td>\n",
       "      <td>0.0</td>\n",
       "      <td>-22.0</td>\n",
       "      <td>-0.117034</td>\n",
       "      <td>184.0</td>\n",
       "      <td>88.82</td>\n",
       "      <td>NaN</td>\n",
       "    </tr>\n",
       "    <tr>\n",
       "      <th>2</th>\n",
       "      <td>Q121</td>\n",
       "      <td>158.0</td>\n",
       "      <td>107.0</td>\n",
       "      <td>54.0</td>\n",
       "      <td>71.0</td>\n",
       "      <td>27.0</td>\n",
       "      <td>0.0</td>\n",
       "      <td>50.0</td>\n",
       "      <td>468.0</td>\n",
       "      <td>18.0</td>\n",
       "      <td>...</td>\n",
       "      <td>323.0</td>\n",
       "      <td>43.0</td>\n",
       "      <td>-2.0</td>\n",
       "      <td>41.0</td>\n",
       "      <td>6.0</td>\n",
       "      <td>35.0</td>\n",
       "      <td>0.191669</td>\n",
       "      <td>184.0</td>\n",
       "      <td>76.62</td>\n",
       "      <td>NaN</td>\n",
       "    </tr>\n",
       "    <tr>\n",
       "      <th>3</th>\n",
       "      <td>Q221</td>\n",
       "      <td>172.0</td>\n",
       "      <td>119.0</td>\n",
       "      <td>59.0</td>\n",
       "      <td>79.0</td>\n",
       "      <td>30.0</td>\n",
       "      <td>0.0</td>\n",
       "      <td>28.0</td>\n",
       "      <td>487.0</td>\n",
       "      <td>15.0</td>\n",
       "      <td>...</td>\n",
       "      <td>345.0</td>\n",
       "      <td>30.0</td>\n",
       "      <td>2.0</td>\n",
       "      <td>32.0</td>\n",
       "      <td>1.0</td>\n",
       "      <td>31.0</td>\n",
       "      <td>0.166977</td>\n",
       "      <td>185.0</td>\n",
       "      <td>83.49</td>\n",
       "      <td>NaN</td>\n",
       "    </tr>\n",
       "    <tr>\n",
       "      <th>4</th>\n",
       "      <td>Q321</td>\n",
       "      <td>137.0</td>\n",
       "      <td>71.0</td>\n",
       "      <td>61.0</td>\n",
       "      <td>68.0</td>\n",
       "      <td>33.0</td>\n",
       "      <td>0.0</td>\n",
       "      <td>24.0</td>\n",
       "      <td>394.0</td>\n",
       "      <td>15.0</td>\n",
       "      <td>...</td>\n",
       "      <td>341.0</td>\n",
       "      <td>-36.0</td>\n",
       "      <td>7.0</td>\n",
       "      <td>-29.0</td>\n",
       "      <td>-10.0</td>\n",
       "      <td>-19.0</td>\n",
       "      <td>-0.104315</td>\n",
       "      <td>183.0</td>\n",
       "      <td>77.09</td>\n",
       "      <td>NaN</td>\n",
       "    </tr>\n",
       "  </tbody>\n",
       "</table>\n",
       "<p>5 rows × 25 columns</p>\n",
       "</div>"
      ],
      "text/plain": [
       "   Year  Vimizim  Naglazyme  Palynziq  Kuvan  Brineura  Voxzogo  Aldurazyme  \\\n",
       "0  Q320    148.0       76.0      46.0  124.0      25.0      0.0        41.0   \n",
       "1  Q420    143.0      120.0      50.0   89.0      35.0      0.0         1.0   \n",
       "2  Q121    158.0      107.0      54.0   71.0      27.0      0.0        50.0   \n",
       "3  Q221    172.0      119.0      59.0   79.0      30.0      0.0        28.0   \n",
       "4  Q321    137.0       71.0      61.0   68.0      33.0      0.0        24.0   \n",
       "\n",
       "   Products  Royalty  ...  Operating Expenses  Operating Income  \\\n",
       "0     461.0     16.0  ...               327.0             -38.0   \n",
       "1     437.0     15.0  ...               352.0             -26.0   \n",
       "2     468.0     18.0  ...               323.0              43.0   \n",
       "3     487.0     15.0  ...               345.0              30.0   \n",
       "4     394.0     15.0  ...               341.0             -36.0   \n",
       "\n",
       "   Interest Expense  Pretax Income  Taxes  Net Profit       EPS  Shares  \\\n",
       "0              -5.0          -44.0    0.0       -44.0 -0.220201   198.0   \n",
       "1               5.0          -22.0    0.0       -22.0 -0.117034   184.0   \n",
       "2              -2.0           41.0    6.0        35.0  0.191669   184.0   \n",
       "3               2.0           32.0    1.0        31.0  0.166977   185.0   \n",
       "4               7.0          -29.0  -10.0       -19.0 -0.104315   183.0   \n",
       "\n",
       "   Share Price  Unnamed: 24  \n",
       "0        87.00          NaN  \n",
       "1        88.82          NaN  \n",
       "2        76.62          NaN  \n",
       "3        83.49          NaN  \n",
       "4        77.09          NaN  \n",
       "\n",
       "[5 rows x 25 columns]"
      ]
     },
     "execution_count": 2,
     "metadata": {},
     "output_type": "execute_result"
    }
   ],
   "source": [
    "# set our dataset equal to ds variable\n",
    "ds = pd.read_csv('brmn.csv')\n",
    "\n",
    "# view first 5 lines of dataset\n",
    "ds.head()"
   ]
  },
  {
   "cell_type": "markdown",
   "id": "5566b653-a91b-491e-baa7-c1b042569d4a",
   "metadata": {},
   "source": [
    "#### Preprocessing"
   ]
  },
  {
   "cell_type": "code",
   "execution_count": 3,
   "id": "d728ea12-66ba-4cee-a64b-b65e00caf66e",
   "metadata": {},
   "outputs": [],
   "source": [
    "# dropping  non-float values\n",
    "drop = ['Year', 'Operating Income', 'Royalty', 'Voxzogo', 'Aldurazyme', 'Taxes', 'Shares', 'Brineura']\n",
    "ds = ds.drop(columns=drop)\n",
    "\n",
    "# replacing non existing values in columns\n",
    "ds.replace(np.nan,0,inplace=True)"
   ]
  },
  {
   "cell_type": "markdown",
   "id": "b685ac5c-a4f4-4d47-adba-a16b282eb343",
   "metadata": {},
   "source": [
    "#### Splitting Dataset"
   ]
  },
  {
   "cell_type": "code",
   "execution_count": 4,
   "id": "96b7aa85-61b5-4105-8981-b72c6a7342eb",
   "metadata": {},
   "outputs": [],
   "source": [
    "# Setting X equal to all columns except for inhibatory concentration value\n",
    "X=ds.loc[:,ds.columns!='Naglazyme']\n",
    "# Setting y equal to share price\n",
    "y=ds['Naglazyme']\n",
    "\n",
    "# 80/20 train/test split\n",
    "X_train, X_test, y_train, y_test = train_test_split(X, y, test_size=0.2, random_state=42)"
   ]
  },
  {
   "cell_type": "markdown",
   "id": "f93408ff-f1f6-4a82-9a4a-3c2f8eebcd3e",
   "metadata": {},
   "source": [
    "#### Scaling Data"
   ]
  },
  {
   "cell_type": "code",
   "execution_count": 5,
   "id": "cabaf1d1-2009-492f-8199-53a838608a9a",
   "metadata": {},
   "outputs": [],
   "source": [
    "# Initialize the scaler\n",
    "scaler_X = MinMaxScaler()\n",
    "\n",
    "# Scalling split data\n",
    "X_train = scaler_X.fit_transform(X_train)\n",
    "X_test = scaler_X.transform(X_test)"
   ]
  },
  {
   "cell_type": "markdown",
   "id": "ab1f443d-2f57-4388-83d1-deaf13cc8bff",
   "metadata": {},
   "source": [
    "#### Building and Training Model"
   ]
  },
  {
   "cell_type": "code",
   "execution_count": 6,
   "id": "6de7009b-ae00-431a-9884-9efee60fddbe",
   "metadata": {
    "scrolled": true
   },
   "outputs": [
    {
     "name": "stdout",
     "output_type": "stream",
     "text": [
      "[1.21770603e+02 9.41032418e-04 1.21568338e+02 9.41032418e-04\n",
      " 1.01882414e+02 9.41032418e-04]\n"
     ]
    }
   ],
   "source": [
    "# XGBoost model built using XGBoost Regreesor\n",
    "boost_model = GradientBoostingRegressor(learning_rate=0.1, n_estimators=100, max_depth=3, random_state=42)\n",
    "# fitting our XGBoost model with the X train and X test sets that have been scaled accordingly with their features.\n",
    "boost_model.fit(X_train, y_train)\n",
    "# producing our prediction using our scaled test set\n",
    "y_pred = boost_model.predict(X_test)\n",
    "\n",
    "print(y_pred)"
   ]
  },
  {
   "cell_type": "code",
   "execution_count": null,
   "id": "ce268a5c-ec0f-4d91-999a-bd25279f7851",
   "metadata": {},
   "outputs": [],
   "source": []
  }
 ],
 "metadata": {
  "kernelspec": {
   "display_name": "Python 3 (ipykernel)",
   "language": "python",
   "name": "python3"
  },
  "language_info": {
   "codemirror_mode": {
    "name": "ipython",
    "version": 3
   },
   "file_extension": ".py",
   "mimetype": "text/x-python",
   "name": "python",
   "nbconvert_exporter": "python",
   "pygments_lexer": "ipython3",
   "version": "3.12.4"
  }
 },
 "nbformat": 4,
 "nbformat_minor": 5
}
